{
  "nbformat": 4,
  "nbformat_minor": 0,
  "metadata": {
    "colab": {
      "name": "BeautifulSoul.ipynb",
      "provenance": [],
      "authorship_tag": "ABX9TyNsP0+dbmIY/5ToBF5A+UJj",
      "include_colab_link": true
    },
    "kernelspec": {
      "name": "python3",
      "display_name": "Python 3"
    },
    "language_info": {
      "name": "python"
    }
  },
  "cells": [
    {
      "cell_type": "markdown",
      "metadata": {
        "id": "view-in-github",
        "colab_type": "text"
      },
      "source": [
        "<a href=\"https://colab.research.google.com/github/Zypher44/Hello-world/blob/master/BeautifulSoul.ipynb\" target=\"_parent\"><img src=\"https://colab.research.google.com/assets/colab-badge.svg\" alt=\"Open In Colab\"/></a>"
      ]
    },
    {
      "cell_type": "code",
      "metadata": {
        "colab": {
          "base_uri": "https://localhost:8080/",
          "height": 401
        },
        "id": "u-wAvjGqukZX",
        "outputId": "70ffcffb-3438-4afb-db90-7e1d831d1240"
      },
      "source": [
        "import random\n",
        "guess = ''\n",
        "while guess not in ('1', '0'):\n",
        " print('Guess the coin toss! Enter heads or tails:')\n",
        " guess = int(input())\n",
        " logging.debug(gu)\n",
        "toss = random.randint(0, 1) # 0 is tails, 1 is heads\n",
        "\n",
        "if toss == guess:\n",
        " print('You got it!')\n",
        "else:\n",
        " print('Nope! Guess again!')\n",
        " guesss = int(input())\n",
        " if toss == guess:\n",
        "  print('You got it!')\n",
        " else:\n",
        "  print('Nope. You are really bad at this game.')"
      ],
      "execution_count": null,
      "outputs": [
        {
          "output_type": "stream",
          "text": [
            "Guess the coin toss! Enter heads or tails:\n",
            "1\n",
            "Guess the coin toss! Enter heads or tails:\n",
            "1\n",
            "Guess the coin toss! Enter heads or tails:\n",
            "2\n",
            "Guess the coin toss! Enter heads or tails:\n",
            "0\n",
            "Guess the coin toss! Enter heads or tails:\n",
            "head\n"
          ],
          "name": "stdout"
        },
        {
          "output_type": "error",
          "ename": "ValueError",
          "evalue": "ignored",
          "traceback": [
            "\u001b[0;31m---------------------------------------------------------------------------\u001b[0m",
            "\u001b[0;31mValueError\u001b[0m                                Traceback (most recent call last)",
            "\u001b[0;32m<ipython-input-11-5be595814085>\u001b[0m in \u001b[0;36m<module>\u001b[0;34m()\u001b[0m\n\u001b[1;32m      3\u001b[0m \u001b[0;32mwhile\u001b[0m \u001b[0mguess\u001b[0m \u001b[0;32mnot\u001b[0m \u001b[0;32min\u001b[0m \u001b[0;34m(\u001b[0m\u001b[0;34m'1'\u001b[0m\u001b[0;34m,\u001b[0m \u001b[0;34m'0'\u001b[0m\u001b[0;34m)\u001b[0m\u001b[0;34m:\u001b[0m\u001b[0;34m\u001b[0m\u001b[0;34m\u001b[0m\u001b[0m\n\u001b[1;32m      4\u001b[0m  \u001b[0mprint\u001b[0m\u001b[0;34m(\u001b[0m\u001b[0;34m'Guess the coin toss! Enter heads or tails:'\u001b[0m\u001b[0;34m)\u001b[0m\u001b[0;34m\u001b[0m\u001b[0;34m\u001b[0m\u001b[0m\n\u001b[0;32m----> 5\u001b[0;31m  \u001b[0mguess\u001b[0m \u001b[0;34m=\u001b[0m \u001b[0mint\u001b[0m\u001b[0;34m(\u001b[0m\u001b[0minput\u001b[0m\u001b[0;34m(\u001b[0m\u001b[0;34m)\u001b[0m\u001b[0;34m)\u001b[0m\u001b[0;34m\u001b[0m\u001b[0;34m\u001b[0m\u001b[0m\n\u001b[0m\u001b[1;32m      6\u001b[0m \u001b[0mtoss\u001b[0m \u001b[0;34m=\u001b[0m \u001b[0mrandom\u001b[0m\u001b[0;34m.\u001b[0m\u001b[0mrandint\u001b[0m\u001b[0;34m(\u001b[0m\u001b[0;36m0\u001b[0m\u001b[0;34m,\u001b[0m \u001b[0;36m1\u001b[0m\u001b[0;34m)\u001b[0m \u001b[0;31m# 0 is tails, 1 is heads\u001b[0m\u001b[0;34m\u001b[0m\u001b[0;34m\u001b[0m\u001b[0m\n\u001b[1;32m      7\u001b[0m \u001b[0;34m\u001b[0m\u001b[0m\n",
            "\u001b[0;31mValueError\u001b[0m: invalid literal for int() with base 10: 'head'"
          ]
        }
      ]
    },
    {
      "cell_type": "code",
      "metadata": {
        "id": "S4qULNGbj38M"
      },
      "source": [
        "\n",
        "toss = random.randint(0,1)"
      ],
      "execution_count": null,
      "outputs": []
    },
    {
      "cell_type": "code",
      "metadata": {
        "colab": {
          "base_uri": "https://localhost:8080/"
        },
        "id": "3nm2B6fuKGXT",
        "outputId": "180df00d-e6ee-4063-b2b5-f3eaf4d2e964"
      },
      "source": [
        "toss\n"
      ],
      "execution_count": null,
      "outputs": [
        {
          "output_type": "execute_result",
          "data": {
            "text/plain": [
              "1"
            ]
          },
          "metadata": {},
          "execution_count": 4
        }
      ]
    },
    {
      "cell_type": "code",
      "metadata": {
        "colab": {
          "base_uri": "https://localhost:8080/",
          "height": 163
        },
        "id": "Yq6oaXGXKG47",
        "outputId": "228295a3-7f7c-4a7c-d06d-e8fb33d9a321"
      },
      "source": [
        "toss(type)"
      ],
      "execution_count": null,
      "outputs": [
        {
          "output_type": "error",
          "ename": "TypeError",
          "evalue": "ignored",
          "traceback": [
            "\u001b[0;31m---------------------------------------------------------------------------\u001b[0m",
            "\u001b[0;31mTypeError\u001b[0m                                 Traceback (most recent call last)",
            "\u001b[0;32m<ipython-input-8-ed3012b75692>\u001b[0m in \u001b[0;36m<module>\u001b[0;34m()\u001b[0m\n\u001b[0;32m----> 1\u001b[0;31m \u001b[0mtoss\u001b[0m\u001b[0;34m(\u001b[0m\u001b[0mtype\u001b[0m\u001b[0;34m)\u001b[0m\u001b[0;34m\u001b[0m\u001b[0;34m\u001b[0m\u001b[0m\n\u001b[0m",
            "\u001b[0;31mTypeError\u001b[0m: 'int' object is not callable"
          ]
        }
      ]
    },
    {
      "cell_type": "code",
      "metadata": {
        "colab": {
          "base_uri": "https://localhost:8080/"
        },
        "id": "vZnUchDwKXSZ",
        "outputId": "99ee4451-bb89-480b-cc64-0fce4d41d3da"
      },
      "source": [
        "type(toss)"
      ],
      "execution_count": null,
      "outputs": [
        {
          "output_type": "execute_result",
          "data": {
            "text/plain": [
              "int"
            ]
          },
          "metadata": {},
          "execution_count": 9
        }
      ]
    },
    {
      "cell_type": "code",
      "metadata": {
        "colab": {
          "base_uri": "https://localhost:8080/"
        },
        "id": "u0F7TANpKYqM",
        "outputId": "9a25a728-b769-4695-95c6-b1c21f9708c6"
      },
      "source": [
        "import logging\n",
        "logging.basicConfig(level=logging.DEBUG, format=' %(asctime)s - %(levelname)s - %(message)s')\n",
        "logging.debug('Start of program')\n",
        "def factorial(n):\n",
        " logging.debug('Start of factorial(%s%%)' % (n))\n",
        " total = 1\n",
        " for i in range(n + 1):\n",
        "  total *= i\n",
        "  logging.debug('i is ' + str(i) + ', total is ' + str(total))\n",
        "  logging.debug('End of factorial(%s%%)' % (n))\n",
        " return total\n",
        "print(factorial(5))\n",
        "logging.debug('End of program')"
      ],
      "execution_count": null,
      "outputs": [
        {
          "output_type": "stream",
          "text": [
            " 2021-08-25 21:15:44,133 - DEBUG - Start of program\n",
            " 2021-08-25 21:15:44,136 - DEBUG - Start of factorial(5%)\n",
            " 2021-08-25 21:15:44,138 - DEBUG - i is 0, total is 0\n",
            " 2021-08-25 21:15:44,141 - DEBUG - End of factorial(5%)\n",
            " 2021-08-25 21:15:44,143 - DEBUG - i is 1, total is 0\n",
            " 2021-08-25 21:15:44,144 - DEBUG - End of factorial(5%)\n",
            " 2021-08-25 21:15:44,146 - DEBUG - i is 2, total is 0\n",
            " 2021-08-25 21:15:44,147 - DEBUG - End of factorial(5%)\n",
            " 2021-08-25 21:15:44,148 - DEBUG - i is 3, total is 0\n",
            " 2021-08-25 21:15:44,149 - DEBUG - End of factorial(5%)\n",
            " 2021-08-25 21:15:44,150 - DEBUG - i is 4, total is 0\n",
            " 2021-08-25 21:15:44,152 - DEBUG - End of factorial(5%)\n",
            " 2021-08-25 21:15:44,153 - DEBUG - i is 5, total is 0\n",
            " 2021-08-25 21:15:44,154 - DEBUG - End of factorial(5%)\n",
            " 2021-08-25 21:15:44,155 - DEBUG - End of program\n"
          ],
          "name": "stderr"
        },
        {
          "output_type": "stream",
          "text": [
            "0\n"
          ],
          "name": "stdout"
        }
      ]
    },
    {
      "cell_type": "code",
      "metadata": {
        "colab": {
          "base_uri": "https://localhost:8080/",
          "height": 129
        },
        "id": "67I1KGDqKukr",
        "outputId": "a559ac4d-e276-4388-bd84-2cce7c70bb9a"
      },
      "source": [
        "import random\n",
        "guess = ''\n",
        "while guess not in ('1', '0'):\n",
        "  print('Guess the coin toss! Enter heads or tails:')\n",
        "  guess = input()\n",
        " \n",
        "logging.debug(toss = random.randint(0, 1)) # 0 is tails, 1 is heads\n",
        "\n",
        "if toss == guess:\n",
        " print('You got it!')\n",
        "else:\n",
        " print('Nope! Guess again!')\n",
        " guesss = input()\n",
        " if toss == guess:\n",
        "  print('You got it!')\n",
        " else:\n",
        "  print('Nope. You are really bad at this game.')"
      ],
      "execution_count": null,
      "outputs": [
        {
          "output_type": "error",
          "ename": "SyntaxError",
          "evalue": "ignored",
          "traceback": [
            "\u001b[0;36m  File \u001b[0;32m\"<ipython-input-30-1dab3fc890b3>\"\u001b[0;36m, line \u001b[0;32m7\u001b[0m\n\u001b[0;31m    logging.debug(\"This is the toss \" + toss = random.randint(0, 1)) # 0 is tails, 1 is heads\u001b[0m\n\u001b[0m                 ^\u001b[0m\n\u001b[0;31mSyntaxError\u001b[0m\u001b[0;31m:\u001b[0m keyword can't be an expression\n"
          ]
        }
      ]
    },
    {
      "cell_type": "code",
      "metadata": {
        "id": "SuE-oz3DK-Cj"
      },
      "source": [
        "#Web Scraping "
      ],
      "execution_count": null,
      "outputs": []
    },
    {
      "cell_type": "code",
      "metadata": {
        "colab": {
          "base_uri": "https://localhost:8080/"
        },
        "id": "9dsK94suLo8y",
        "outputId": "8f3e8887-7717-4f2c-9b0e-172c67028316"
      },
      "source": [
        "import webbrowser\n",
        "webbrowser.open('http://inventwithpython.com/')"
      ],
      "execution_count": null,
      "outputs": [
        {
          "output_type": "execute_result",
          "data": {
            "text/plain": [
              "False"
            ]
          },
          "metadata": {},
          "execution_count": 36
        }
      ]
    },
    {
      "cell_type": "code",
      "metadata": {
        "colab": {
          "base_uri": "https://localhost:8080/",
          "height": 17
        },
        "id": "XxIrv5DwN692",
        "outputId": "295dca98-4287-4df9-8415-9656731f2b68"
      },
      "source": [
        "%%javascript\n",
        "window.open('https://colab.research.google.com', '_blank');"
      ],
      "execution_count": null,
      "outputs": [
        {
          "output_type": "display_data",
          "data": {
            "application/javascript": [
              "window.open('https://colab.research.google.com', '_blank');"
            ],
            "text/plain": [
              "<IPython.core.display.Javascript object>"
            ]
          },
          "metadata": {}
        }
      ]
    },
    {
      "cell_type": "code",
      "metadata": {
        "id": "DtzYN0Z8OVe8"
      },
      "source": [
        "import webbrowser\n",
        "import sys\n",
        "import requests\n",
        "import bs4\n",
        "import os\n",
        "#webbrowser.open(\"Http:://Google.ca\")\n",
        "\n",
        "if len(sys.argv) > 1:\n",
        "    #get Address from command line\n",
        "    address = ''.join(sys.argv[1:])\n",
        "    print(address)\n",
        "\n",
        "res = requests.get('http://www.gutenberg.org/cache/epub/1112/pg1112.txt')\n",
        "try: # call after the get to make sure the info us here\n",
        "    res.raise_for_status()\n",
        "except Exception as exc:\n",
        "    print(\"'There was a problem : %s\" % (exc))\n",
        "\n",
        "print(type(res))\n",
        "res.status_code == requests.codes.ok\n",
        "print(len(res.text))\n",
        "\n",
        "print(res.text[:250])\n",
        "print(res.status_code)\n",
        "\n",
        "playFile = open('RomeoAndJuliet.txt','wb')\n",
        "for chunk in res.iter_content(1000000):\n",
        "    playFile.write(chunk)\n",
        "\n",
        "print(playFile)\n",
        "#Finding the weather\n",
        "\n",
        "res1 = requests.get(\"https://www.theweathernetwork.com/ca/hourly-weather-forecast/ontario/windsor\")\n",
        "res1.raise_for_status()\n",
        "weatherSoup = bs4.BeautifulSoup(res1.text, features='html.parser')\n",
        "print(type(weatherSoup))\n",
        "example = weatherSoup.select('p.feels-lie')\n",
        "\n",
        "#Finding top movies\n",
        "results = []\n",
        "movieRes = requests.get(\"https://www.cinemablend.com/new/10-Greatest-Movies-All-Time-According-Actors-73867.html\")\n",
        "movieRes.raise_for_status()\n",
        "movieSoup = bs4.BeautifulSoup(movieRes.text, features='html.parser')\n",
        "element = movieSoup.select('div.liststyle')\n",
        "movie = element[0].get_text()\n",
        "\n",
        "results.append(movie)\n",
        "\n",
        "##class= partial content_story_pages_html  order-of-type-2\n",
        "\n",
        "link = movieSoup.select('div.partial content_story_pages_html order-of-type-2, div.liststyle')\n",
        "href = link[0].get('href')\n",
        "\n",
        "print(results)\n",
        "print(link)\n",
        "\n",
        "#Refacor the scrapper\n",
        "\n",
        "def scrapper(url, results=None):\n",
        "    if not results:\n",
        "        results= []\n",
        "    page = requests.get(url)\n",
        "\n",
        "    soup = bs4.BeautifulSoup(page.text, 'html.parser')\n",
        "\n",
        "    element = soup.select('div.listtyle')\n",
        "    try:\n",
        "        movie = element[0].get_text()\n",
        "        results.append(movie)\n",
        "    except IndexError:\n",
        "        return \"No Matching element found\"\n",
        "\n",
        "    link = soup.select('div.partial content_story_pages_html order-of-type-2, div.liststyle')\n",
        "\n",
        "    return results\n",
        "\n",
        "print(scrapper('https://www.cinemablend.com/new/10-Greatest-Movies-All-Time-According-Actors-73867.html'))\n",
        "\n",
        "#Get all the comics\n",
        "\n",
        "url1 = 'https://xkcd.com/' #Starting url\n",
        "os.makedirs('xkcd', exist_ok=True)\n",
        "\n",
        "while not url1.endswith('#'):\n",
        "    print(f\"Downloading page {url1}\")\n",
        "    page = requests.get(url1)\n",
        "    page.raise_for_status()\n",
        "    soup = bs4.BeautifulSoup(page.text, features='html.parser')\n",
        "\n",
        "    #Find URL of comic image\n",
        "    comicElem = soup.select('#comic img')\n",
        "    if comicElem == []:\n",
        "        print(\"Could not find a comic\")\n",
        "    else:\n",
        "        comicUrl = comicElem[0].get('src')\n",
        "        comicUrl = 'http://'+comicUrl\n",
        "\n",
        "        #Download the image\n",
        "        print(f\"Downloading the image {comicUrl}\")\n",
        "        page = requests.get(comicUrl)\n",
        "        page.raise_for_status()\n",
        "\n",
        "#Save image to ./xkcd,\n",
        "    imagefile = open(os.path.join('xkcd', os.path.basename(comicUrl)), 'wb')\n",
        "    for chunk in page.iter_content(100000):\n",
        "        imagefile.write(chunk)\n",
        "    imagefile.close()\n",
        "\n",
        "#Get previous button's URL\n",
        "prevlink = soup.select('a[rel=\"prev\"]')[0]\n",
        "url = 'http://xkcd.com' + prevlink.get('href')\n",
        "\n",
        "print(\"Done\")\n",
        "#http:////imgs.xkcd.com/comics/usv_c.png\n",
        "#image //imgs.xkcd.com/comics/usv_c.png\n",
        "\n"
      ],
      "execution_count": null,
      "outputs": []
    }
  ]
}