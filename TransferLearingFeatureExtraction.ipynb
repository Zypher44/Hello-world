{
  "nbformat": 4,
  "nbformat_minor": 0,
  "metadata": {
    "colab": {
      "name": "TransferLearingFeatureExtraction.ipynb",
      "provenance": [],
      "mount_file_id": "1dscn8WC5SoZgoVgXJA3LY0ylnX2WF2UM",
      "authorship_tag": "ABX9TyPuSoPmMplpgfrKnrBFHP5P",
      "include_colab_link": true
    },
    "kernelspec": {
      "name": "python3",
      "display_name": "Python 3"
    },
    "language_info": {
      "name": "python"
    },
    "accelerator": "GPU"
  },
  "cells": [
    {
      "cell_type": "markdown",
      "metadata": {
        "id": "view-in-github",
        "colab_type": "text"
      },
      "source": [
        "<a href=\"https://colab.research.google.com/github/Zypher44/Hello-world/blob/master/TransferLearingFeatureExtraction.ipynb\" target=\"_parent\"><img src=\"https://colab.research.google.com/assets/colab-badge.svg\" alt=\"Open In Colab\"/></a>"
      ]
    },
    {
      "cell_type": "markdown",
      "metadata": {
        "id": "LADio07ERqF6"
      },
      "source": [
        "#Transfer learning with TensorFlow two benefits \n",
        "\n",
        "There are two main beenfits \n",
        "1. Can leverage an existing neural netowrk architercutre proven to work on problems similar to our own \n",
        "2. Can leverage a working neural netowrk architecuter which has already learned patterns on similar data to our own, \n",
        "then we can adapt those patterns to our own data "
      ]
    },
    {
      "cell_type": "code",
      "metadata": {
        "colab": {
          "base_uri": "https://localhost:8080/"
        },
        "id": "7-pOR8sJq3yz",
        "outputId": "3eaf86b6-c928-4c1e-cf35-41ef21d47da4"
      },
      "source": [
        "!nvidia-smi"
      ],
      "execution_count": 1,
      "outputs": [
        {
          "output_type": "stream",
          "text": [
            "Sun Jul  4 20:52:56 2021       \n",
            "+-----------------------------------------------------------------------------+\n",
            "| NVIDIA-SMI 465.27       Driver Version: 460.32.03    CUDA Version: 11.2     |\n",
            "|-------------------------------+----------------------+----------------------+\n",
            "| GPU  Name        Persistence-M| Bus-Id        Disp.A | Volatile Uncorr. ECC |\n",
            "| Fan  Temp  Perf  Pwr:Usage/Cap|         Memory-Usage | GPU-Util  Compute M. |\n",
            "|                               |                      |               MIG M. |\n",
            "|===============================+======================+======================|\n",
            "|   0  Tesla T4            Off  | 00000000:00:04.0 Off |                    0 |\n",
            "| N/A   38C    P8     9W /  70W |      0MiB / 15109MiB |      0%      Default |\n",
            "|                               |                      |                  N/A |\n",
            "+-------------------------------+----------------------+----------------------+\n",
            "                                                                               \n",
            "+-----------------------------------------------------------------------------+\n",
            "| Processes:                                                                  |\n",
            "|  GPU   GI   CI        PID   Type   Process name                  GPU Memory |\n",
            "|        ID   ID                                                   Usage      |\n",
            "|=============================================================================|\n",
            "|  No running processes found                                                 |\n",
            "+-----------------------------------------------------------------------------+\n"
          ],
          "name": "stdout"
        }
      ]
    },
    {
      "cell_type": "markdown",
      "metadata": {
        "id": "EhUSWFVNrjnY"
      },
      "source": [
        "#Get data "
      ]
    },
    {
      "cell_type": "code",
      "metadata": {
        "colab": {
          "base_uri": "https://localhost:8080/"
        },
        "id": "ng0QUDtir8p1",
        "outputId": "ff579991-6a5b-4bf0-af2a-4f59b3786a23"
      },
      "source": [
        "import zipfile\n",
        "\n",
        "#Download data \n",
        "\n",
        "!wget https://storage.googleapis.com/ztm_tf_course/food_vision/10_food_classes_10_percent.zip\n",
        "\n",
        "#unzip file \n",
        "\n",
        "zip_ref = zipfile.ZipFile(\"10_food_classes_10_percent.zip\")\n",
        "zip_ref.extractall()\n",
        "zip_ref.close()\n"
      ],
      "execution_count": 2,
      "outputs": [
        {
          "output_type": "stream",
          "text": [
            "--2021-07-04 20:52:57--  https://storage.googleapis.com/ztm_tf_course/food_vision/10_food_classes_10_percent.zip\n",
            "Resolving storage.googleapis.com (storage.googleapis.com)... 172.217.2.112, 172.253.62.128, 172.217.164.144, ...\n",
            "Connecting to storage.googleapis.com (storage.googleapis.com)|172.217.2.112|:443... connected.\n",
            "HTTP request sent, awaiting response... 200 OK\n",
            "Length: 168546183 (161M) [application/zip]\n",
            "Saving to: ‘10_food_classes_10_percent.zip’\n",
            "\n",
            "10_food_classes_10_ 100%[===================>] 160.74M   166MB/s    in 1.0s    \n",
            "\n",
            "2021-07-04 20:52:58 (166 MB/s) - ‘10_food_classes_10_percent.zip’ saved [168546183/168546183]\n",
            "\n"
          ],
          "name": "stdout"
        }
      ]
    },
    {
      "cell_type": "code",
      "metadata": {
        "colab": {
          "base_uri": "https://localhost:8080/"
        },
        "id": "QYpylcBDsUh7",
        "outputId": "787d0134-f2d5-4ff6-bd67-4a5bf5c8d631"
      },
      "source": [
        "import os \n",
        "\n",
        "for dirpath,dirnames,filenames in os.walk(\"10_food_classes_10_percent\"):\n",
        "  print(f\"There are {len(dirnames)} directories and {len(filenames)} images in '{dirpath}'.\")"
      ],
      "execution_count": 3,
      "outputs": [
        {
          "output_type": "stream",
          "text": [
            "There are 2 directories and 0 images in '10_food_classes_10_percent'.\n",
            "There are 10 directories and 0 images in '10_food_classes_10_percent/test'.\n",
            "There are 0 directories and 250 images in '10_food_classes_10_percent/test/pizza'.\n",
            "There are 0 directories and 250 images in '10_food_classes_10_percent/test/grilled_salmon'.\n",
            "There are 0 directories and 250 images in '10_food_classes_10_percent/test/sushi'.\n",
            "There are 0 directories and 250 images in '10_food_classes_10_percent/test/ice_cream'.\n",
            "There are 0 directories and 250 images in '10_food_classes_10_percent/test/steak'.\n",
            "There are 0 directories and 250 images in '10_food_classes_10_percent/test/fried_rice'.\n",
            "There are 0 directories and 250 images in '10_food_classes_10_percent/test/chicken_wings'.\n",
            "There are 0 directories and 250 images in '10_food_classes_10_percent/test/ramen'.\n",
            "There are 0 directories and 250 images in '10_food_classes_10_percent/test/chicken_curry'.\n",
            "There are 0 directories and 250 images in '10_food_classes_10_percent/test/hamburger'.\n",
            "There are 10 directories and 0 images in '10_food_classes_10_percent/train'.\n",
            "There are 0 directories and 75 images in '10_food_classes_10_percent/train/pizza'.\n",
            "There are 0 directories and 75 images in '10_food_classes_10_percent/train/grilled_salmon'.\n",
            "There are 0 directories and 75 images in '10_food_classes_10_percent/train/sushi'.\n",
            "There are 0 directories and 75 images in '10_food_classes_10_percent/train/ice_cream'.\n",
            "There are 0 directories and 75 images in '10_food_classes_10_percent/train/steak'.\n",
            "There are 0 directories and 75 images in '10_food_classes_10_percent/train/fried_rice'.\n",
            "There are 0 directories and 75 images in '10_food_classes_10_percent/train/chicken_wings'.\n",
            "There are 0 directories and 75 images in '10_food_classes_10_percent/train/ramen'.\n",
            "There are 0 directories and 75 images in '10_food_classes_10_percent/train/chicken_curry'.\n",
            "There are 0 directories and 75 images in '10_food_classes_10_percent/train/hamburger'.\n"
          ],
          "name": "stdout"
        }
      ]
    },
    {
      "cell_type": "markdown",
      "metadata": {
        "id": "Eo5tq5HRtgNc"
      },
      "source": [
        "#Preparing the data \n",
        "\n",
        "\"\"\"\n",
        "Image data generateror class to load our data into batches\n",
        "\"\"\"\n",
        "\n"
      ]
    },
    {
      "cell_type": "code",
      "metadata": {
        "colab": {
          "base_uri": "https://localhost:8080/"
        },
        "id": "U1piZoaquC41",
        "outputId": "04f0dcf9-5ae2-40c5-d054-e7398e9c53bd"
      },
      "source": [
        "from tensorflow.keras.preprocessing.image import ImageDataGenerator\n",
        "\n",
        "IMAGE_SHAPE =(224,224) #Caps means hyperparmater\n",
        "BATCH_SIZE = 32\n",
        "\n",
        "train_dir = '10_food_classes_10_percent/train/'\n",
        "test_dir = '10_food_classes_10_percent/test/'\n",
        "\n",
        "train_datagen = ImageDataGenerator(rescale=1/255.)\n",
        "test_datagen = ImageDataGenerator(rescale=1/255.)\n",
        "\n",
        "print(\"Training Images\")\n",
        "train_data_10_percent = train_datagen.flow_from_directory(train_dir,\n",
        "                                                          target_size=IMAGE_SHAPE,\n",
        "                                                          batch_size = BATCH_SIZE,\n",
        "                                                          class_mode = 'categorical')\n",
        "\n",
        "print(\"Test Images\")\n",
        "test_data_10_percent = test_datagen.flow_from_directory(test_dir,\n",
        "                                                        target_size=IMAGE_SHAPE,\n",
        "                                                        batch_size=BATCH_SIZE,\n",
        "                                                        class_mode='categorical')"
      ],
      "execution_count": 4,
      "outputs": [
        {
          "output_type": "stream",
          "text": [
            "Training Images\n",
            "Found 750 images belonging to 10 classes.\n",
            "Test Images\n",
            "Found 2500 images belonging to 10 classes.\n"
          ],
          "name": "stdout"
        }
      ]
    },
    {
      "cell_type": "markdown",
      "metadata": {
        "id": "deCtn0cZuwus"
      },
      "source": [
        "#Setting up callbacks(runs while our model trains)\n",
        "\n",
        "Callbacks are extra functionality you can add to your models to be performed during or after training.\n",
        "Popular callbacks are:\n",
        "1.Tracking experiments with TensorBoard callback \n",
        "2.Model checkingpointing with ModelCheckpoint Callback \n",
        "3.Stopping a model from training (before it trains too long and overfits) with EarlyStopping Callback "
      ]
    },
    {
      "cell_type": "code",
      "metadata": {
        "id": "fO__PvMsv_ER"
      },
      "source": [
        "#Create a tensorboarad callback (functionized)\n",
        "from keras.callbacks import TensorBoard\n",
        "\n",
        "import datetime\n",
        "def create_tensorboard_callback(dir_name, experiment_name):\n",
        "  log_dir = dir_name + \"/\" + experiment_name + \"/\" + datetime.datetime.now().strftime(\"%Y%m%d-%H%M%S\")\n",
        "  tensorboard_callback= tf.keras.callbacks.TensorBoard(log_dir = log_dir)\n",
        "  print(f'Saving TensorBoard log files to:{log_dir}')\n",
        "  return tensorboard_callback\n"
      ],
      "execution_count": 6,
      "outputs": []
    },
    {
      "cell_type": "code",
      "metadata": {
        "colab": {
          "base_uri": "https://localhost:8080/",
          "height": 163
        },
        "id": "qRcBhKM3CO_q",
        "outputId": "4373f792-6f36-41c3-b1e2-687cf6174c34"
      },
      "source": [
        ""
      ],
      "execution_count": 9,
      "outputs": [
        {
          "output_type": "error",
          "ename": "TypeError",
          "evalue": "ignored",
          "traceback": [
            "\u001b[0;31m---------------------------------------------------------------------------\u001b[0m",
            "\u001b[0;31mTypeError\u001b[0m                                 Traceback (most recent call last)",
            "\u001b[0;32m<ipython-input-9-462f0c05d854>\u001b[0m in \u001b[0;36m<module>\u001b[0;34m()\u001b[0m\n\u001b[0;32m----> 1\u001b[0;31m \u001b[0mcreate_tensorboard_callback\u001b[0m\u001b[0;34m(\u001b[0m\u001b[0;34m)\u001b[0m\u001b[0;34m\u001b[0m\u001b[0;34m\u001b[0m\u001b[0m\n\u001b[0m",
            "\u001b[0;31mTypeError\u001b[0m: create_tensorboard_callback() missing 2 required positional arguments: 'dir_name' and 'experiment_name'"
          ]
        }
      ]
    },
    {
      "cell_type": "markdown",
      "metadata": {
        "id": "YQCBpA9hxajS"
      },
      "source": [
        "#Creating models using Tensorflow hub \n",
        "#Acess models on https://tfhub.dev/\n",
        "\n",
        "https://tfhub.dev/tensorflow/efficientnet/b0/feature-vector/1"
      ]
    },
    {
      "cell_type": "code",
      "metadata": {
        "id": "5tWU8-UW0jZu"
      },
      "source": [
        "#Comparing tensorflow hub models |\n",
        "\n",
        "\n",
        "resnet_url = 'https://tfhub.dev/google/imagenet/resnet_v2_50/feature_vector/1'\n",
        "efficientnet_url = 'https://tfhub.dev/tensorflow/efficientnet/b0/classification/1'"
      ],
      "execution_count": 7,
      "outputs": []
    },
    {
      "cell_type": "code",
      "metadata": {
        "id": "9dp9D4vz7xaV"
      },
      "source": [
        "#Import dependencies \n",
        "\n",
        "import tensorflow as tf \n",
        "import tensorflow_hub as hub \n",
        "\n",
        "from tensorflow.keras import layers "
      ],
      "execution_count": 8,
      "outputs": []
    },
    {
      "cell_type": "code",
      "metadata": {
        "id": "9cIp8z1S8Vla"
      },
      "source": [
        "def create_model(model_url, num_classes=10):\n",
        "  \"\"\"\n",
        "  Takes a tensorflow hub URl and create a keras sequential model with it \n",
        "  Args :\n",
        "  model_url (str): a TensorFlow hub feature extraction URL \n",
        "  num_classes (int): Number of output neurons in the output layer, should be equal to number of target classes default 10\n",
        "\n",
        "  Returns:\n",
        "  An uncompiled keras Sequential model with model_url as feature extractor layer and Dense out layer with num_class output neurons. \n",
        "\n",
        "  \"\"\"\n",
        "\n",
        "  #Download the pretrained model and save it as keras layer\n",
        "\n",
        "  feature_extractor_layer = hub.KerasLayer(model_url,\n",
        "                                            trainable=False,# Freeze the already learned patterns \n",
        "                                            name='Feature_extraction_layer',\n",
        "                                            input_shape=IMAGE_SHAPE+(3,)) \n",
        "\n",
        "  #Create a sequential model \n",
        "\n",
        "  model = tf.keras.Sequential([\n",
        "        feature_extractor_layer,\n",
        "        layers.Dense(num_classes, activation='softmax', name='output_layer')\n",
        "  ])\n",
        "\n",
        "  return model \n",
        "\n",
        "\n"
      ],
      "execution_count": 9,
      "outputs": []
    },
    {
      "cell_type": "code",
      "metadata": {
        "id": "lyE-CgJX9jYV"
      },
      "source": [
        "#Create Resnet model \n",
        "\n",
        "resnet_model = create_model(resnet_url,num_classes=train_data_10_percent.num_classes)"
      ],
      "execution_count": 10,
      "outputs": []
    },
    {
      "cell_type": "code",
      "metadata": {
        "id": "w9XLxr4O_Z1B"
      },
      "source": [
        "#Compile the model \n",
        "\n",
        "resnet_model.compile(\n",
        "    loss= tf.keras.losses.CategoricalCrossentropy(),\n",
        "    optimizer= tf.keras.optimizers.Adam(),\n",
        "    metrics = ['accuracy']\n",
        ")"
      ],
      "execution_count": 11,
      "outputs": []
    },
    {
      "cell_type": "code",
      "metadata": {
        "colab": {
          "base_uri": "https://localhost:8080/"
        },
        "id": "NHTxWlAp-J5A",
        "outputId": "30f33c62-2a39-4dce-f5bb-74a8559a31dd"
      },
      "source": [
        "resnet_model.summary()"
      ],
      "execution_count": 12,
      "outputs": [
        {
          "output_type": "stream",
          "text": [
            "Model: \"sequential\"\n",
            "_________________________________________________________________\n",
            "Layer (type)                 Output Shape              Param #   \n",
            "=================================================================\n",
            "Feature_extraction_layer (Ke (None, 2048)              23564800  \n",
            "_________________________________________________________________\n",
            "output_layer (Dense)         (None, 10)                20490     \n",
            "=================================================================\n",
            "Total params: 23,585,290\n",
            "Trainable params: 20,490\n",
            "Non-trainable params: 23,564,800\n",
            "_________________________________________________________________\n"
          ],
          "name": "stdout"
        }
      ]
    },
    {
      "cell_type": "code",
      "metadata": {
        "id": "dwC1VGqGB4Jo"
      },
      "source": [
        "from keras.callbacks import TensorBoard"
      ],
      "execution_count": 13,
      "outputs": []
    },
    {
      "cell_type": "code",
      "metadata": {
        "colab": {
          "base_uri": "https://localhost:8080/"
        },
        "id": "Cc0Y9z1w_QnB",
        "outputId": "8f885f4e-ddc3-428e-c047-e2ce2ec97c41"
      },
      "source": [
        "\n",
        "\n",
        "history = resnet_model.fit(train_data_10_percent,\n",
        "                           epochs=5,\n",
        "                           steps_per_epoch = len(train_data_10_percent),\n",
        "                           validation_data=test_data_10_percent,\n",
        "                           validation_steps = len(test_data_10_percent),\n",
        "                           callbacks=[create_tensorboard_callback(dir_name=\"tensorflow_hub\",\n",
        "                                                                  experiment_name='resenet50V2'\n",
        "                                                                  )])"
      ],
      "execution_count": 14,
      "outputs": [
        {
          "output_type": "stream",
          "text": [
            "Saving TensorBoard log files to:tensorflow_hub/resenet50V2/20210704-205559\n",
            "Epoch 1/5\n",
            "24/24 [==============================] - 50s 777ms/step - loss: 1.9806 - accuracy: 0.3413 - val_loss: 1.2182 - val_accuracy: 0.6156\n",
            "Epoch 2/5\n",
            "24/24 [==============================] - 16s 668ms/step - loss: 0.9137 - accuracy: 0.7387 - val_loss: 0.8531 - val_accuracy: 0.7368\n",
            "Epoch 3/5\n",
            "24/24 [==============================] - 16s 671ms/step - loss: 0.6153 - accuracy: 0.8320 - val_loss: 0.7670 - val_accuracy: 0.7460\n",
            "Epoch 4/5\n",
            "24/24 [==============================] - 15s 665ms/step - loss: 0.4740 - accuracy: 0.8787 - val_loss: 0.6921 - val_accuracy: 0.7828\n",
            "Epoch 5/5\n",
            "24/24 [==============================] - 16s 666ms/step - loss: 0.3777 - accuracy: 0.9160 - val_loss: 0.6702 - val_accuracy: 0.7784\n"
          ],
          "name": "stdout"
        }
      ]
    },
    {
      "cell_type": "code",
      "metadata": {
        "id": "H1CXlVQJ_62B"
      },
      "source": [
        " efficent_model = create_model(model_url=efficientnet_url,num_classes=train_data_10_percent.num_classes)"
      ],
      "execution_count": 15,
      "outputs": []
    },
    {
      "cell_type": "code",
      "metadata": {
        "id": "U6q3mxeY9aNT"
      },
      "source": [
        "efficent_model.compile(\n",
        "    loss= tf.keras.losses.CategoricalCrossentropy(),\n",
        "    optimizer= tf.keras.optimizers.Adam(),\n",
        "    metrics=['accuracy']\n",
        ")"
      ],
      "execution_count": 16,
      "outputs": []
    },
    {
      "cell_type": "code",
      "metadata": {
        "colab": {
          "base_uri": "https://localhost:8080/"
        },
        "id": "IAWtgrTg9nYg",
        "outputId": "50293f72-f91f-47c8-a90b-be74f6ae7db3"
      },
      "source": [
        "hisoryE = efficent_model.fit(train_data_10_percent,\n",
        "                             epochs=10,\n",
        "                             steps_per_epoch=len(train_data_10_percent),\n",
        "                             validation_data=test_data_10_percent,\n",
        "                             validation_steps=len(test_data_10_percent),\n",
        "                             callbacks=[create_tensorboard_callback(dir_name='tensorflow_hub',\n",
        "                                                                    experiment_name='efficientmodel')\n",
        "                             ])"
      ],
      "execution_count": 17,
      "outputs": [
        {
          "output_type": "stream",
          "text": [
            "Saving TensorBoard log files to:tensorflow_hub/efficientmodel/20210704-205812\n",
            "Epoch 1/10\n",
            "24/24 [==============================] - 26s 784ms/step - loss: 2.2982 - accuracy: 0.1453 - val_loss: 2.2908 - val_accuracy: 0.1748\n",
            "Epoch 2/10\n",
            "24/24 [==============================] - 15s 634ms/step - loss: 2.2838 - accuracy: 0.2693 - val_loss: 2.2762 - val_accuracy: 0.3712\n",
            "Epoch 3/10\n",
            "24/24 [==============================] - 15s 644ms/step - loss: 2.2694 - accuracy: 0.4133 - val_loss: 2.2615 - val_accuracy: 0.4728\n",
            "Epoch 4/10\n",
            "24/24 [==============================] - 15s 632ms/step - loss: 2.2555 - accuracy: 0.4840 - val_loss: 2.2470 - val_accuracy: 0.4940\n",
            "Epoch 5/10\n",
            "24/24 [==============================] - 15s 635ms/step - loss: 2.2411 - accuracy: 0.5240 - val_loss: 2.2325 - val_accuracy: 0.5308\n",
            "Epoch 6/10\n",
            "24/24 [==============================] - 15s 631ms/step - loss: 2.2273 - accuracy: 0.5347 - val_loss: 2.2181 - val_accuracy: 0.5460\n",
            "Epoch 7/10\n",
            "24/24 [==============================] - 15s 638ms/step - loss: 2.2131 - accuracy: 0.5640 - val_loss: 2.2039 - val_accuracy: 0.5772\n",
            "Epoch 8/10\n",
            "24/24 [==============================] - 15s 629ms/step - loss: 2.1996 - accuracy: 0.5853 - val_loss: 2.1896 - val_accuracy: 0.5880\n",
            "Epoch 9/10\n",
            "24/24 [==============================] - 15s 632ms/step - loss: 2.1856 - accuracy: 0.5973 - val_loss: 2.1755 - val_accuracy: 0.5936\n",
            "Epoch 10/10\n",
            "24/24 [==============================] - 15s 632ms/step - loss: 2.1719 - accuracy: 0.6120 - val_loss: 2.1615 - val_accuracy: 0.6020\n"
          ],
          "name": "stdout"
        }
      ]
    },
    {
      "cell_type": "code",
      "metadata": {
        "id": "MgAKzoah9_PQ"
      },
      "source": [
        " #Plot the validation and training curves \n",
        "import matplotlib.pyplot as plt\n",
        "\n",
        "\n",
        "\n",
        "def plot_loss_curves(history):\n",
        "  \"\"\"\n",
        "  Returns seperate loss curves for training and validation metrics. \n",
        "\n",
        "  Args:\n",
        "     history: TensorFlow history object\n",
        "\n",
        "  Returns:\n",
        "  Plots of training/validation loss and accuracy metrics \n",
        "  \"\"\"\n",
        "\n",
        "  loss = history.history['loss']\n",
        "  val_loss = history.history['val_loss']\n",
        "\n",
        "  accuracy = history.history['accuracy']\n",
        "  val_accruacy = history.history['val_accuracy']\n",
        "\n",
        "  epochs = range(len(history.history['loss']))\n",
        "\n",
        "  #Plot loss \n",
        "  plt.plot(epochs,loss,label='Training loss')\n",
        "  plt.plot(epochs,val_loss, label='val_loss')\n",
        "  plt.title('Loss')\n",
        "  plt.xlabel(\"Epochs\")\n",
        "  plt.legend()\n",
        "\n",
        "  #Plot accuracy\n",
        "  plt.figure(),\n",
        "  plt.plot(epochs,accuracy, label='Training accuracy')\n",
        "  plt.plot(epochs, val_accruacy, label='Val_Accuracy')\n",
        "  plt.title(\"Accuracy\")\n",
        "  plt.xlabel(\"Epochs\")\n",
        "  plt.legend();\n"
      ],
      "execution_count": 18,
      "outputs": []
    },
    {
      "cell_type": "code",
      "metadata": {
        "colab": {
          "base_uri": "https://localhost:8080/",
          "height": 573
        },
        "id": "QYUHow___Q1r",
        "outputId": "6c736f7b-e834-4bba-eed4-e68d1a3940b4"
      },
      "source": [
        "plot_loss_curves(history)"
      ],
      "execution_count": 19,
      "outputs": [
        {
          "output_type": "display_data",
          "data": {
            "image/png": "[encoded data removed]",
            "text/plain": [
              "<Figure size 432x288 with 1 Axes>"
            ]
          },
          "metadata": {
            "tags": [],
            "needs_background": "light"
          }
        },
        {
          "output_type": "display_data",
          "data": {
            "image/png": "[encoded data removed]",
            "text/plain": [
              "<Figure size 432x288 with 1 Axes>"
            ]
          },
          "metadata": {
            "tags": [],
            "needs_background": "light"
          }
        }
      ]
    },
    {
      "cell_type": "code",
      "metadata": {
        "colab": {
          "base_uri": "https://localhost:8080/",
          "height": 573
        },
        "id": "mWMAoyOy_UHy",
        "outputId": "c18e9b7c-e359-40f4-d9dc-0a429e1bb16a"
      },
      "source": [
        "plot_loss_curves(hisoryE)"
      ],
      "execution_count": 20,
      "outputs": [
        {
          "output_type": "display_data",
          "data": {
            "image/png": "[encoded data removed]",
            "text/plain": [
              "<Figure size 432x288 with 1 Axes>"
            ]
          },
          "metadata": {
            "tags": [],
            "needs_background": "light"
          }
        },
        {
          "output_type": "display_data",
          "data": {
            "image/png": "[encoded data removed]",
            "text/plain": [
              "<Figure size 432x288 with 1 Axes>"
            ]
          },
          "metadata": {
            "tags": [],
            "needs_background": "light"
          }
        }
      ]
    },
    {
      "cell_type": "code",
      "metadata": {
        "colab": {
          "base_uri": "https://localhost:8080/"
        },
        "id": "IIhjSF03_cXK",
        "outputId": "aafc948f-22f2-4eeb-9483-7d60204ac0be"
      },
      "source": [
        "#How many layers does our effienctnet feature extractor have \n",
        "\n",
        "len(efficent_model.layers[0].weights)"
      ],
      "execution_count": 21,
      "outputs": [
        {
          "output_type": "execute_result",
          "data": {
            "text/plain": [
              "311"
            ]
          },
          "metadata": {
            "tags": []
          },
          "execution_count": 21
        }
      ]
    },
    {
      "cell_type": "code",
      "metadata": {
        "colab": {
          "base_uri": "https://localhost:8080/"
        },
        "id": "ij1liRZDIdZx",
        "outputId": "900f52a9-564a-44c2-cf17-a55057b77724"
      },
      "source": [
        "len(resnet_model.layers[0].weights)"
      ],
      "execution_count": 22,
      "outputs": [
        {
          "output_type": "execute_result",
          "data": {
            "text/plain": [
              "270"
            ]
          },
          "metadata": {
            "tags": []
          },
          "execution_count": 22
        }
      ]
    },
    {
      "cell_type": "markdown",
      "metadata": {
        "id": "CIyWxMHDIibY"
      },
      "source": [
        " #Differnt types of transfer learning \n",
        "\n",
        " *\"AS is TransferLearning\" - using an exisitng model with no changes whatsoever (e.g using ImageNet model on 1000, ImageNet classes, \n",
        "                                                                                 none of your own)\n",
        " *\"Feature Extraction\" - transfer learning - use the prelearned patterns of an exisiting model (eg, efficentNetB0 trained on ImageNet) and adjust \n",
        " the output layer for your own problems (1000 classes -> 10 classes of food)\n",
        "\n",
        " *\"Fine Tuning Transfer layers\" - Use the prelearned patterns of an exisitng model and fine-tune many or all of the underlying layers \n",
        " (Including new output layers)"
      ]
    },
    {
      "cell_type": "code",
      "metadata": {
        "id": "ktVbCzV1KHng"
      },
      "source": [
        "#Compairng our models results using TensorBoard"
      ],
      "execution_count": 23,
      "outputs": []
    },
    {
      "cell_type": "code",
      "metadata": {
        "colab": {
          "base_uri": "https://localhost:8080/"
        },
        "id": "mqbHJP0hKKE0",
        "outputId": "2be83c71-0162-48f6-8596-525839a8be88"
      },
      "source": [
        "!tensorboard dev upload --logdir ./tensorflow_hub/ \\\n",
        "--name \"EfficentNetB0 vs Resnet50v2\" \\\n",
        "--description \"Comparing two different TF Hub features extraction model architectures\" \\\n",
        "--one_shot"
      ],
      "execution_count": 24,
      "outputs": [
        {
          "output_type": "stream",
          "text": [
            "2021-07-04 21:01:45.018525: I tensorflow/stream_executor/platform/default/dso_loader.cc:53] Successfully opened dynamic library libcudart.so.11.0\n",
            "\n",
            "***** TensorBoard Uploader *****\n",
            "\n",
            "This will upload your TensorBoard logs to https://tensorboard.dev/ from\n",
            "the following directory:\n",
            "\n",
            "./tensorflow_hub/\n",
            "\n",
            "This TensorBoard will be visible to everyone. Do not upload sensitive\n",
            "data.\n",
            "\n",
            "Your use of this service is subject to Google's Terms of Service\n",
            "<https://policies.google.com/terms> and Privacy Policy\n",
            "<https://policies.google.com/privacy>, and TensorBoard.dev's Terms of Service\n",
            "<https://tensorboard.dev/policy/terms/>.\n",
            "\n",
            "This notice will not be shown again while you are logged into the uploader.\n",
            "To log out, run `tensorboard dev auth revoke`.\n",
            "\n",
            "Continue? (yes/NO) Traceback (most recent call last):\n",
            "  File \"/usr/local/bin/tensorboard\", line 8, in <module>\n",
            "    sys.exit(run_main())\n",
            "  File \"/usr/local/lib/python3.7/dist-packages/tensorboard/main.py\", line 46, in run_main\n",
            "  File \"/usr/local/lib/python3.7/dist-packages/absl/app.py\", line 303, in run\n",
            "    _run_main(main, args)\n",
            "  File \"/usr/local/lib/python3.7/dist-packages/absl/app.py\", line 251, in _run_main\n",
            "    sys.exit(main(argv))\n",
            "  File \"/usr/local/lib/python3.7/dist-packages/tensorboard/program.py\", line 276, in main\n",
            "    return runner(self.flags) or 0\n",
            "  File \"/usr/local/lib/python3.7/dist-packages/tensorboard/uploader/uploader_subcommand.py\", line 654, in run\n",
            "    return _run(flags, self._experiment_url_callback)\n",
            "  File \"/usr/local/lib/python3.7/dist-packages/tensorboard/uploader/uploader_subcommand.py\", line 93, in _run\n",
            "    _prompt_for_user_ack(intent)\n",
            "  File \"/usr/local/lib/python3.7/dist-packages/tensorboard/uploader/uploader_subcommand.py\", line 66, in _prompt_for_user_ack\n",
            "    response = input(\"Continue? (yes/NO) \")\n",
            "KeyboardInterrupt\n"
          ],
          "name": "stdout"
        }
      ]
    },
    {
      "cell_type": "code",
      "metadata": {
        "colab": {
          "base_uri": "https://localhost:8080/"
        },
        "id": "z7NX6YFKNVn2",
        "outputId": "7dde8dec-bc7b-4477-c3ac-3147da461733"
      },
      "source": [
        "!tensorboard dev list"
      ],
      "execution_count": 42,
      "outputs": [
        {
          "output_type": "stream",
          "text": [
            "2021-07-02 21:58:32.758875: I tensorflow/stream_executor/platform/default/dso_loader.cc:53] Successfully opened dynamic library libcudart.so.11.0\n",
            "Data for the \"text\" plugin is now uploaded to TensorBoard.dev! Note that uploaded data is public. If you do not want to upload data for this plugin, use the \"--plugins\" command line argument.\n",
            "https://tensorboard.dev/experiment/gVefrqQ1QRSmwEzmg4fgzA/\n",
            "\tName                 EfficentNetB0 vs Resnet50v2\n",
            "\tDescription          Comparing two different TF Hub features extraction model architectures\n",
            "\tId                   gVefrqQ1QRSmwEzmg4fgzA\n",
            "\tCreated              2021-07-02 21:54:06 (4 minutes ago)\n",
            "\tUpdated              2021-07-02 21:54:11 (4 minutes ago)\n",
            "\tRuns                 8\n",
            "\tTags                 5\n",
            "\tScalars              150\n",
            "\tTensor bytes         0\n",
            "\tBinary object bytes  13674730\n",
            "Total: 1 experiment(s)\n"
          ],
          "name": "stdout"
        }
      ]
    },
    {
      "cell_type": "code",
      "metadata": {
        "id": "blphVZMXOwL-"
      },
      "source": [
        ""
      ],
      "execution_count": null,
      "outputs": []
    }
  ]
}