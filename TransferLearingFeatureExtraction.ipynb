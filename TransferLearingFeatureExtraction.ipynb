{
  "nbformat": 4,
  "nbformat_minor": 0,
  "metadata": {
    "colab": {
      "name": "TransferLearingFeatureExtraction.ipynb",
      "provenance": [],
      "mount_file_id": "1dscn8WC5SoZgoVgXJA3LY0ylnX2WF2UM",
      "authorship_tag": "ABX9TyPuSoPmMplpgfrKnrBFHP5P",
      "include_colab_link": true
    },
    "kernelspec": {
      "name": "python3",
      "display_name": "Python 3"
    },
    "language_info": {
      "name": "python"
    },
    "accelerator": "GPU"
  },
  "cells": [
    {
      "cell_type": "markdown",
      "metadata": {
        "id": "view-in-github",
        "colab_type": "text"
      },
      "source": [
        "<a href=\"https://colab.research.google.com/github/Zypher44/Hello-world/blob/master/TransferLearingFeatureExtraction.ipynb\" target=\"_parent\"><img src=\"https://colab.research.google.com/assets/colab-badge.svg\" alt=\"Open In Colab\"/></a>"
      ]
    },
    {
      "cell_type": "markdown",
      "metadata": {
        "id": "LADio07ERqF6"
      },
      "source": [
        "#Transfer learning with TensorFlow two benefits \n",
        "\n",
        "There are two main beenfits \n",
        "1. Can leverage an existing neural netowrk architercutre proven to work on problems similar to our own \n",
        "2. Can leverage a working neural netowrk architecuter which has already learned patterns on similar data to our own, \n",
        "then we can adapt those patterns to our own data "
      ]
    },
    {
      "cell_type": "code",
      "metadata": {
        "colab": {
          "base_uri": "https://localhost:8080/"
        },
        "id": "7-pOR8sJq3yz",
        "outputId": "e44c1aff-aad6-427a-d2c2-28676b1ad6c5"
      },
      "source": [
        "!nvidia-smi"
      ],
      "execution_count": 6,
      "outputs": [
        {
          "output_type": "stream",
          "text": [
            "Fri Jul  2 20:39:18 2021       \n",
            "+-----------------------------------------------------------------------------+\n",
            "| NVIDIA-SMI 465.27       Driver Version: 460.32.03    CUDA Version: 11.2     |\n",
            "|-------------------------------+----------------------+----------------------+\n",
            "| GPU  Name        Persistence-M| Bus-Id        Disp.A | Volatile Uncorr. ECC |\n",
            "| Fan  Temp  Perf  Pwr:Usage/Cap|         Memory-Usage | GPU-Util  Compute M. |\n",
            "|                               |                      |               MIG M. |\n",
            "|===============================+======================+======================|\n",
            "|   0  Tesla T4            Off  | 00000000:00:04.0 Off |                    0 |\n",
            "| N/A   45C    P8    10W /  70W |      0MiB / 15109MiB |      0%      Default |\n",
            "|                               |                      |                  N/A |\n",
            "+-------------------------------+----------------------+----------------------+\n",
            "                                                                               \n",
            "+-----------------------------------------------------------------------------+\n",
            "| Processes:                                                                  |\n",
            "|  GPU   GI   CI        PID   Type   Process name                  GPU Memory |\n",
            "|        ID   ID                                                   Usage      |\n",
            "|=============================================================================|\n",
            "|  No running processes found                                                 |\n",
            "+-----------------------------------------------------------------------------+\n"
          ],
          "name": "stdout"
        }
      ]
    },
    {
      "cell_type": "markdown",
      "metadata": {
        "id": "EhUSWFVNrjnY"
      },
      "source": [
        "#Get data "
      ]
    },
    {
      "cell_type": "code",
      "metadata": {
        "colab": {
          "base_uri": "https://localhost:8080/"
        },
        "id": "ng0QUDtir8p1",
        "outputId": "4f50f6b1-1a73-4a89-c779-23ef08634747"
      },
      "source": [
        "import zipfile\n",
        "\n",
        "#Download data \n",
        "\n",
        "!wget https://storage.googleapis.com/ztm_tf_course/food_vision/10_food_classes_10_percent.zip\n",
        "\n",
        "#unzip file \n",
        "\n",
        "zip_ref = zipfile.ZipFile(\"10_food_classes_10_percent.zip\")\n",
        "zip_ref.extractall()\n",
        "zip_ref.close()\n"
      ],
      "execution_count": 7,
      "outputs": [
        {
          "output_type": "stream",
          "text": [
            "--2021-07-02 20:39:26--  https://storage.googleapis.com/ztm_tf_course/food_vision/10_food_classes_10_percent.zip\n",
            "Resolving storage.googleapis.com (storage.googleapis.com)... 74.125.20.128, 74.125.195.128, 74.125.142.128, ...\n",
            "Connecting to storage.googleapis.com (storage.googleapis.com)|74.125.20.128|:443... connected.\n",
            "HTTP request sent, awaiting response... 200 OK\n",
            "Length: 168546183 (161M) [application/zip]\n",
            "Saving to: ‘10_food_classes_10_percent.zip.1’\n",
            "\n",
            "10_food_classes_10_ 100%[===================>] 160.74M   175MB/s    in 0.9s    \n",
            "\n",
            "2021-07-02 20:39:27 (175 MB/s) - ‘10_food_classes_10_percent.zip.1’ saved [168546183/168546183]\n",
            "\n"
          ],
          "name": "stdout"
        }
      ]
    },
    {
      "cell_type": "code",
      "metadata": {
        "colab": {
          "base_uri": "https://localhost:8080/"
        },
        "id": "QYpylcBDsUh7",
        "outputId": "da40fe4f-59d1-4fc5-d8cf-268f24e3cf9d"
      },
      "source": [
        "import os \n",
        "\n",
        "for dirpath,dirnames,filenames in os.walk(\"10_food_classes_10_percent\"):\n",
        "  print(f\"There are {len(dirnames)} directories and {len(filenames)} images in '{dirpath}'.\")"
      ],
      "execution_count": 8,
      "outputs": [
        {
          "output_type": "stream",
          "text": [
            "There are 2 directories and 0 images in '10_food_classes_10_percent'.\n",
            "There are 10 directories and 0 images in '10_food_classes_10_percent/test'.\n",
            "There are 0 directories and 250 images in '10_food_classes_10_percent/test/pizza'.\n",
            "There are 0 directories and 250 images in '10_food_classes_10_percent/test/grilled_salmon'.\n",
            "There are 0 directories and 250 images in '10_food_classes_10_percent/test/sushi'.\n",
            "There are 0 directories and 250 images in '10_food_classes_10_percent/test/ice_cream'.\n",
            "There are 0 directories and 250 images in '10_food_classes_10_percent/test/steak'.\n",
            "There are 0 directories and 250 images in '10_food_classes_10_percent/test/fried_rice'.\n",
            "There are 0 directories and 250 images in '10_food_classes_10_percent/test/chicken_wings'.\n",
            "There are 0 directories and 250 images in '10_food_classes_10_percent/test/ramen'.\n",
            "There are 0 directories and 250 images in '10_food_classes_10_percent/test/chicken_curry'.\n",
            "There are 0 directories and 250 images in '10_food_classes_10_percent/test/hamburger'.\n",
            "There are 10 directories and 0 images in '10_food_classes_10_percent/train'.\n",
            "There are 0 directories and 75 images in '10_food_classes_10_percent/train/pizza'.\n",
            "There are 0 directories and 75 images in '10_food_classes_10_percent/train/grilled_salmon'.\n",
            "There are 0 directories and 75 images in '10_food_classes_10_percent/train/sushi'.\n",
            "There are 0 directories and 75 images in '10_food_classes_10_percent/train/ice_cream'.\n",
            "There are 0 directories and 75 images in '10_food_classes_10_percent/train/steak'.\n",
            "There are 0 directories and 75 images in '10_food_classes_10_percent/train/fried_rice'.\n",
            "There are 0 directories and 75 images in '10_food_classes_10_percent/train/chicken_wings'.\n",
            "There are 0 directories and 75 images in '10_food_classes_10_percent/train/ramen'.\n",
            "There are 0 directories and 75 images in '10_food_classes_10_percent/train/chicken_curry'.\n",
            "There are 0 directories and 75 images in '10_food_classes_10_percent/train/hamburger'.\n"
          ],
          "name": "stdout"
        }
      ]
    },
    {
      "cell_type": "markdown",
      "metadata": {
        "id": "Eo5tq5HRtgNc"
      },
      "source": [
        "#Preparing the data \n",
        "\n",
        "\"\"\"\n",
        "Image data generateror class to load our data into batches\n",
        "\"\"\"\n",
        "\n"
      ]
    },
    {
      "cell_type": "code",
      "metadata": {
        "colab": {
          "base_uri": "https://localhost:8080/"
        },
        "id": "U1piZoaquC41",
        "outputId": "28fbf042-f10b-4be1-b211-530382695c1f"
      },
      "source": [
        "from tensorflow.keras.preprocessing.image import ImageDataGenerator\n",
        "\n",
        "IMAGE_SHAPE =(224,224) #Caps means hyperparmater\n",
        "BATCH_SIZE = 32\n",
        "\n",
        "train_dir = '10_food_classes_10_percent/train/'\n",
        "test_dir = '10_food_classes_10_percent/test/'\n",
        "\n",
        "train_datagen = ImageDataGenerator(rescale=1/255.)\n",
        "test_datagen = ImageDataGenerator(rescale=1/255.)\n",
        "\n",
        "print(\"Training Images\")\n",
        "train_data_10_percent = train_datagen.flow_from_directory(train_dir,\n",
        "                                                          target_size=IMAGE_SHAPE,\n",
        "                                                          batch_size = BATCH_SIZE,\n",
        "                                                          class_mode = 'categorical')\n",
        "\n",
        "print(\"Test Images\")\n",
        "test_data_10_percent = test_datagen.flow_from_directory(test_dir,\n",
        "                                                        target_size=IMAGE_SHAPE,\n",
        "                                                        batch_size=BATCH_SIZE,\n",
        "                                                        class_mode='categorical')"
      ],
      "execution_count": 9,
      "outputs": [
        {
          "output_type": "stream",
          "text": [
            "Training Images\n",
            "Found 750 images belonging to 10 classes.\n",
            "Test Images\n",
            "Found 2500 images belonging to 10 classes.\n"
          ],
          "name": "stdout"
        }
      ]
    },
    {
      "cell_type": "markdown",
      "metadata": {
        "id": "deCtn0cZuwus"
      },
      "source": [
        "#Setting up callbacks(runs while our model trains)\n",
        "\n",
        "Callbacks are extra functionality you can add to your models to be performed during or after training.\n",
        "Popular callbacks are:\n",
        "1.Tracking experiments with TensorBoard callback \n",
        "2.Model checkingpointing with ModelCheckpoint Callback \n",
        "3.Stopping a model from training (before it trains too long and overfits) with EarlyStopping Callback "
      ]
    },
    {
      "cell_type": "code",
      "metadata": {
        "id": "fO__PvMsv_ER"
      },
      "source": [
        "#Create a tensorboarad callback (functionized)\n",
        "from keras.callbacks import TensorBoard\n",
        "\n",
        "import datetime\n",
        "def create_tensorboard_callback(dir_name, experiment_name):\n",
        "  log_dir = dir_name + \"/\" + experiment_name + \"/\" + datetime.datetime.now().strftime(\"%Y%m%d-%H%M%S\")\n",
        "  tensorboard_callback= tf.keras.callbacks.TensorBoard(log_dir = log_dir)\n",
        "  print(f'Saving TensorBoard log files to:{log_dir}')\n",
        "  return tensorboard_callback\n"
      ],
      "execution_count": 10,
      "outputs": []
    },
    {
      "cell_type": "code",
      "metadata": {
        "colab": {
          "base_uri": "https://localhost:8080/",
          "height": 163
        },
        "id": "qRcBhKM3CO_q",
        "outputId": "4373f792-6f36-41c3-b1e2-687cf6174c34"
      },
      "source": [
        ""
      ],
      "execution_count": 9,
      "outputs": [
        {
          "output_type": "error",
          "ename": "TypeError",
          "evalue": "ignored",
          "traceback": [
            "\u001b[0;31m---------------------------------------------------------------------------\u001b[0m",
            "\u001b[0;31mTypeError\u001b[0m                                 Traceback (most recent call last)",
            "\u001b[0;32m<ipython-input-9-462f0c05d854>\u001b[0m in \u001b[0;36m<module>\u001b[0;34m()\u001b[0m\n\u001b[0;32m----> 1\u001b[0;31m \u001b[0mcreate_tensorboard_callback\u001b[0m\u001b[0;34m(\u001b[0m\u001b[0;34m)\u001b[0m\u001b[0;34m\u001b[0m\u001b[0;34m\u001b[0m\u001b[0m\n\u001b[0m",
            "\u001b[0;31mTypeError\u001b[0m: create_tensorboard_callback() missing 2 required positional arguments: 'dir_name' and 'experiment_name'"
          ]
        }
      ]
    },
    {
      "cell_type": "markdown",
      "metadata": {
        "id": "YQCBpA9hxajS"
      },
      "source": [
        "#Creating models using Tensorflow hub \n",
        "#Acess models on https://tfhub.dev/\n",
        "\n",
        "https://tfhub.dev/tensorflow/efficientnet/b0/feature-vector/1"
      ]
    },
    {
      "cell_type": "code",
      "metadata": {
        "id": "5tWU8-UW0jZu"
      },
      "source": [
        "#Comparing tensorflow hub models |\n",
        "\n",
        "\n",
        "resnet_url = 'https://tfhub.dev/google/imagenet/resnet_v2_50/feature_vector/1'\n",
        "efficientnet_url = 'https://tfhub.dev/tensorflow/efficientnet/b0/classification/1'"
      ],
      "execution_count": 11,
      "outputs": []
    },
    {
      "cell_type": "code",
      "metadata": {
        "id": "9dp9D4vz7xaV"
      },
      "source": [
        "#Import dependencies \n",
        "\n",
        "import tensorflow as tf \n",
        "import tensorflow_hub as hub \n",
        "\n",
        "from tensorflow.keras import layers "
      ],
      "execution_count": 12,
      "outputs": []
    },
    {
      "cell_type": "code",
      "metadata": {
        "id": "9cIp8z1S8Vla"
      },
      "source": [
        "def create_model(model_url, num_classes=10):\n",
        "  \"\"\"\n",
        "  Takes a tensorflow hub URl and create a keras sequential model with it \n",
        "  Args :\n",
        "  model_url (str): a TensorFlow hub feature extraction URL \n",
        "  num_classes (int): Number of output neurons in the output layer, should be equal to number of target classes default 10\n",
        "\n",
        "  Returns:\n",
        "  An uncompiled keras Sequential model with model_url as feature extractor layer and Dense out layer with num_class output neurons. \n",
        "\n",
        "  \"\"\"\n",
        "\n",
        "  #Download the pretrained model and save it as keras layer\n",
        "\n",
        "  feature_extractor_layer = hub.KerasLayer(model_url,\n",
        "                                            trainable=False,# Freeze the already learned patterns \n",
        "                                            name='Feature_extraction_layer',\n",
        "                                            input_shape=IMAGE_SHAPE+(3,)) \n",
        "\n",
        "  #Create a sequential model \n",
        "\n",
        "  model = tf.keras.Sequential([\n",
        "        feature_extractor_layer,\n",
        "        layers.Dense(num_classes, activation='softmax', name='output_layer')\n",
        "  ])\n",
        "\n",
        "  return model \n",
        "\n",
        "\n"
      ],
      "execution_count": 13,
      "outputs": []
    },
    {
      "cell_type": "code",
      "metadata": {
        "id": "lyE-CgJX9jYV"
      },
      "source": [
        "#Create Resnet model \n",
        "\n",
        "resnet_model = create_model(resnet_url,num_classes=train_data_10_percent.num_classes)"
      ],
      "execution_count": 14,
      "outputs": []
    },
    {
      "cell_type": "code",
      "metadata": {
        "id": "w9XLxr4O_Z1B"
      },
      "source": [
        "#Compile the model \n",
        "\n",
        "resnet_model.compile(\n",
        "    loss= tf.keras.losses.CategoricalCrossentropy(),\n",
        "    optimizer= tf.keras.optimizers.Adam(),\n",
        "    metrics = ['accuracy']\n",
        ")"
      ],
      "execution_count": 15,
      "outputs": []
    },
    {
      "cell_type": "code",
      "metadata": {
        "colab": {
          "base_uri": "https://localhost:8080/"
        },
        "id": "NHTxWlAp-J5A",
        "outputId": "c585b7df-a6a4-4f2e-ab82-7fd86d10ed05"
      },
      "source": [
        "resnet_model.summary()"
      ],
      "execution_count": 16,
      "outputs": [
        {
          "output_type": "stream",
          "text": [
            "Model: \"sequential\"\n",
            "_________________________________________________________________\n",
            "Layer (type)                 Output Shape              Param #   \n",
            "=================================================================\n",
            "Feature_extraction_layer (Ke (None, 2048)              23564800  \n",
            "_________________________________________________________________\n",
            "output_layer (Dense)         (None, 10)                20490     \n",
            "=================================================================\n",
            "Total params: 23,585,290\n",
            "Trainable params: 20,490\n",
            "Non-trainable params: 23,564,800\n",
            "_________________________________________________________________\n"
          ],
          "name": "stdout"
        }
      ]
    },
    {
      "cell_type": "code",
      "metadata": {
        "id": "dwC1VGqGB4Jo"
      },
      "source": [
        "from keras.callbacks import TensorBoard"
      ],
      "execution_count": 17,
      "outputs": []
    },
    {
      "cell_type": "code",
      "metadata": {
        "colab": {
          "base_uri": "https://localhost:8080/"
        },
        "id": "Cc0Y9z1w_QnB",
        "outputId": "1233b501-5812-4f58-88f2-928f0600e711"
      },
      "source": [
        "\n",
        "\n",
        "history = resnet_model.fit(train_data_10_percent,\n",
        "                           epochs=5,\n",
        "                           steps_per_epoch = len(train_data_10_percent),\n",
        "                           validation_data=test_data_10_percent,\n",
        "                           validation_steps = len(test_data_10_percent),\n",
        "                           callbacks=[create_tensorboard_callback(dir_name=\"tensorflow_hub\",\n",
        "                                                                  experiment_name='resenet50V2'\n",
        "                                                                  )])"
      ],
      "execution_count": 18,
      "outputs": [
        {
          "output_type": "stream",
          "text": [
            "Saving TensorBoard log files to:tensorflow_hub/resenet50V2/20210702-204000\n",
            "Epoch 1/5\n",
            "24/24 [==============================] - 36s 762ms/step - loss: 1.9621 - accuracy: 0.3720 - val_loss: 1.2514 - val_accuracy: 0.6148\n",
            "Epoch 2/5\n",
            "24/24 [==============================] - 15s 648ms/step - loss: 0.9004 - accuracy: 0.7320 - val_loss: 0.9403 - val_accuracy: 0.6980\n",
            "Epoch 3/5\n",
            "24/24 [==============================] - 15s 649ms/step - loss: 0.6067 - accuracy: 0.8267 - val_loss: 0.7600 - val_accuracy: 0.7616\n",
            "Epoch 4/5\n",
            "24/24 [==============================] - 15s 650ms/step - loss: 0.4611 - accuracy: 0.8813 - val_loss: 0.7283 - val_accuracy: 0.7632\n",
            "Epoch 5/5\n",
            "24/24 [==============================] - 15s 648ms/step - loss: 0.3686 - accuracy: 0.9200 - val_loss: 0.6884 - val_accuracy: 0.7820\n"
          ],
          "name": "stdout"
        }
      ]
    },
    {
      "cell_type": "code",
      "metadata": {
        "id": "H1CXlVQJ_62B"
      },
      "source": [
        " efficent_model = create_model(model_url=efficientnet_url,num_classes=train_data_10_percent.num_classes)"
      ],
      "execution_count": 19,
      "outputs": []
    },
    {
      "cell_type": "code",
      "metadata": {
        "id": "U6q3mxeY9aNT"
      },
      "source": [
        "efficent_model.compile(\n",
        "    loss= tf.keras.losses.CategoricalCrossentropy(),\n",
        "    optimizer= tf.keras.optimizers.Adam(),\n",
        "    metrics=['accuracy']\n",
        ")"
      ],
      "execution_count": 20,
      "outputs": []
    },
    {
      "cell_type": "code",
      "metadata": {
        "colab": {
          "base_uri": "https://localhost:8080/"
        },
        "id": "IAWtgrTg9nYg",
        "outputId": "7f519cd6-19ad-4a43-8f8e-142352ab87fb"
      },
      "source": [
        "hisoryE = efficent_model.fit(train_data_10_percent,\n",
        "                             epochs=10,\n",
        "                             steps_per_epoch=len(train_data_10_percent),\n",
        "                             validation_data=test_data_10_percent,\n",
        "                             validation_steps=len(test_data_10_percent),\n",
        "                             callbacks=[create_tensorboard_callback(dir_name='tensorflow_hub',\n",
        "                                                                    experiment_name='efficientmodel')\n",
        "                             ])"
      ],
      "execution_count": 33,
      "outputs": [
        {
          "output_type": "stream",
          "text": [
            "Saving TensorBoard log files to:tensorflow_hub/efficientmodel/20210702-205953\n",
            "Epoch 1/10\n",
            "24/24 [==============================] - 16s 689ms/step - loss: 2.1565 - accuracy: 0.6267 - val_loss: 2.1453 - val_accuracy: 0.6356\n",
            "Epoch 2/10\n",
            "24/24 [==============================] - 15s 626ms/step - loss: 2.1432 - accuracy: 0.6280 - val_loss: 2.1316 - val_accuracy: 0.6468\n",
            "Epoch 3/10\n",
            "24/24 [==============================] - 14s 622ms/step - loss: 2.1297 - accuracy: 0.6507 - val_loss: 2.1182 - val_accuracy: 0.6644\n",
            "Epoch 4/10\n",
            "24/24 [==============================] - 15s 627ms/step - loss: 2.1168 - accuracy: 0.6573 - val_loss: 2.1044 - val_accuracy: 0.6680\n",
            "Epoch 5/10\n",
            "24/24 [==============================] - 15s 628ms/step - loss: 2.1035 - accuracy: 0.6627 - val_loss: 2.0911 - val_accuracy: 0.6712\n",
            "Epoch 6/10\n",
            "24/24 [==============================] - 14s 622ms/step - loss: 2.0904 - accuracy: 0.6653 - val_loss: 2.0779 - val_accuracy: 0.6788\n",
            "Epoch 7/10\n",
            "24/24 [==============================] - 15s 624ms/step - loss: 2.0776 - accuracy: 0.6600 - val_loss: 2.0648 - val_accuracy: 0.6740\n",
            "Epoch 8/10\n",
            "24/24 [==============================] - 14s 622ms/step - loss: 2.0649 - accuracy: 0.6613 - val_loss: 2.0518 - val_accuracy: 0.6756\n",
            "Epoch 9/10\n",
            "24/24 [==============================] - 15s 627ms/step - loss: 2.0525 - accuracy: 0.6613 - val_loss: 2.0387 - val_accuracy: 0.6756\n",
            "Epoch 10/10\n",
            "24/24 [==============================] - 14s 621ms/step - loss: 2.0397 - accuracy: 0.6680 - val_loss: 2.0260 - val_accuracy: 0.6792\n"
          ],
          "name": "stdout"
        }
      ]
    },
    {
      "cell_type": "code",
      "metadata": {
        "id": "MgAKzoah9_PQ"
      },
      "source": [
        " #Plot the validation and training curves \n",
        "import matplotlib.pyplot as plt\n",
        "\n",
        "\n",
        "\n",
        "def plot_loss_curves(history):\n",
        "  \"\"\"\n",
        "  Returns seperate loss curves for training and validation metrics. \n",
        "\n",
        "  Args:\n",
        "     history: TensorFlow history object\n",
        "\n",
        "  Returns:\n",
        "  Plots of training/validation loss and accuracy metrics \n",
        "  \"\"\"\n",
        "\n",
        "  loss = history.history['loss']\n",
        "  val_loss = history.history['val_loss']\n",
        "\n",
        "  accuracy = history.history['accuracy']\n",
        "  val_accruacy = history.history['val_accuracy']\n",
        "\n",
        "  epochs = range(len(history.history['loss']))\n",
        "\n",
        "  #Plot loss \n",
        "  plt.plot(epochs,loss,label='Training loss')\n",
        "  plt.plot(epochs,val_loss, label='val_loss')\n",
        "  plt.title('Loss')\n",
        "  plt.xlabel(\"Epochs\")\n",
        "  plt.legend()\n",
        "\n",
        "  #Plot accuracy\n",
        "  plt.figure(),\n",
        "  plt.plot(epochs,accuracy, label='Training accuracy')\n",
        "  plt.plot(epochs, val_accruacy, label='Val_Accuracy')\n",
        "  plt.title(\"Accuracy\")\n",
        "  plt.xlabel(\"Epochs\")\n",
        "  plt.legend();\n"
      ],
      "execution_count": 28,
      "outputs": []
    },
    {
      "cell_type": "code",
      "metadata": {
        "colab": {
          "base_uri": "https://localhost:8080/",
          "height": 573
        },
        "id": "QYUHow___Q1r",
        "outputId": "5ccbf85a-24e5-4d8d-8f44-78486a544516"
      },
      "source": [
        "plot_loss_curves(history)"
      ],
      "execution_count": 29,
      "outputs": [
        {
          "output_type": "display_data",
          "data": {
            "image/png": "[encoded data removed]",
            "text/plain": [
              "<Figure size 432x288 with 1 Axes>"
            ]
          },
          "metadata": {
            "tags": [],
            "needs_background": "light"
          }
        },
        {
          "output_type": "display_data",
          "data": {
            "image/png": "[encoded data removed]",
            "text/plain": [
              "<Figure size 432x288 with 1 Axes>"
            ]
          },
          "metadata": {
            "tags": [],
            "needs_background": "light"
          }
        }
      ]
    },
    {
      "cell_type": "code",
      "metadata": {
        "colab": {
          "base_uri": "https://localhost:8080/",
          "height": 573
        },
        "id": "mWMAoyOy_UHy",
        "outputId": "1b670f68-38ff-45d9-f16c-eafbc93acdc0"
      },
      "source": [
        "plot_loss_curves(hisoryE)"
      ],
      "execution_count": 32,
      "outputs": [
        {
          "output_type": "display_data",
          "data": {
            "image/png": "[encoded data removed]",
            "text/plain": [
              "<Figure size 432x288 with 1 Axes>"
            ]
          },
          "metadata": {
            "tags": [],
            "needs_background": "light"
          }
        },
        {
          "output_type": "display_data",
          "data": {
            "image/png": "[encoded data removed]",
            "text/plain": [
              "<Figure size 432x288 with 1 Axes>"
            ]
          },
          "metadata": {
            "tags": [],
            "needs_background": "light"
          }
        }
      ]
    },
    {
      "cell_type": "code",
      "metadata": {
        "colab": {
          "base_uri": "https://localhost:8080/"
        },
        "id": "IIhjSF03_cXK",
        "outputId": "6872a9fb-f139-41c1-b8db-a081df71a9be"
      },
      "source": [
        "#How many layers does our effienctnet feature extractor have \n",
        "\n",
        "len(efficent_model.layers[0].weights)"
      ],
      "execution_count": 34,
      "outputs": [
        {
          "output_type": "execute_result",
          "data": {
            "text/plain": [
              "311"
            ]
          },
          "metadata": {
            "tags": []
          },
          "execution_count": 34
        }
      ]
    },
    {
      "cell_type": "code",
      "metadata": {
        "colab": {
          "base_uri": "https://localhost:8080/"
        },
        "id": "ij1liRZDIdZx",
        "outputId": "134f719d-8a66-4cad-f1d7-f4a2dc1b099e"
      },
      "source": [
        "len(resnet_model.layers[0].weights)"
      ],
      "execution_count": 35,
      "outputs": [
        {
          "output_type": "execute_result",
          "data": {
            "text/plain": [
              "270"
            ]
          },
          "metadata": {
            "tags": []
          },
          "execution_count": 35
        }
      ]
    },
    {
      "cell_type": "markdown",
      "metadata": {
        "id": "CIyWxMHDIibY"
      },
      "source": [
        " #Differnt types of transfer learning \n",
        "\n",
        " *\"AS is TransferLearning\" - using an exisitng model with no changes whatsoever (e.g using ImageNet model on 1000, ImageNet classes, \n",
        "                                                                                 none of your own)\n",
        " *\"Feature Extraction\" - transfer learning - use the prelearned patterns of an exisiting model (eg, efficentNetB0 trained on ImageNet) and adjust \n",
        " the output layer for your own problems (1000 classes -> 10 classes of food)\n",
        "\n",
        " *\"Fine Tuning Transfer layers\" - Use the prelearned patterns of an exisitng model and fine-tune many or all of the underlying layers \n",
        " (Including new output layers)"
      ]
    },
    {
      "cell_type": "code",
      "metadata": {
        "id": "ktVbCzV1KHng"
      },
      "source": [
        "#Compairng our models results using TensorBoard"
      ],
      "execution_count": 36,
      "outputs": []
    },
    {
      "cell_type": "code",
      "metadata": {
        "colab": {
          "base_uri": "https://localhost:8080/"
        },
        "id": "mqbHJP0hKKE0",
        "outputId": "60192404-6b2d-464f-a1c1-955c777f9765"
      },
      "source": [
        "!tensorboard dev upload --logdir ./tensorflow_hub/ \\\n",
        "--name \"EfficentNetB0 vs Resnet50v2\" \\\n",
        "--description \"Comparing two different TF Hub features extraction model architectures\" \\\n",
        "--one_shot"
      ],
      "execution_count": 41,
      "outputs": [
        {
          "output_type": "stream",
          "text": [
            "2021-07-02 21:53:33.284323: I tensorflow/stream_executor/platform/default/dso_loader.cc:53] Successfully opened dynamic library libcudart.so.11.0\n",
            "\n",
            "***** TensorBoard Uploader *****\n",
            "\n",
            "This will upload your TensorBoard logs to https://tensorboard.dev/ from\n",
            "the following directory:\n",
            "\n",
            "./tensorflow_hub/\n",
            "\n",
            "This TensorBoard will be visible to everyone. Do not upload sensitive\n",
            "data.\n",
            "\n",
            "Your use of this service is subject to Google's Terms of Service\n",
            "<https://policies.google.com/terms> and Privacy Policy\n",
            "<https://policies.google.com/privacy>, and TensorBoard.dev's Terms of Service\n",
            "<https://tensorboard.dev/policy/terms/>.\n",
            "\n",
            "This notice will not be shown again while you are logged into the uploader.\n",
            "To log out, run `tensorboard dev auth revoke`.\n",
            "\n",
            "Continue? (yes/NO) yes\n",
            "\n",
            "Please visit this URL to authorize this application: https://accounts.google.com/o/oauth2/auth?response_type=code&client_id=373649185512-8v619h5kft38l4456nm2dj4ubeqsrvh6.apps.googleusercontent.com&redirect_uri=urn%3Aietf%3Awg%3Aoauth%3A2.0%3Aoob&scope=openid+https%3A%2F%2Fwww.googleapis.com%2Fauth%2Fuserinfo.email&state=uv7QPUrQdMXk4N2iCHVJKtztvgEtuE&prompt=consent&access_type=offline\n",
            "Enter the authorization code: 4/1AX4XfWjNTZiY-J8MA2fFU55bUd3GOd4AmQvjWiGtaRvbI__x-9s11RM_y8M\n",
            "\n",
            "Data for the \"text\" plugin is now uploaded to TensorBoard.dev! Note that uploaded data is public. If you do not want to upload data for this plugin, use the \"--plugins\" command line argument.\n",
            "\n",
            "New experiment created. View your TensorBoard at: https://tensorboard.dev/experiment/gVefrqQ1QRSmwEzmg4fgzA/\n",
            "\n",
            "\u001b[1m[2021-07-02T21:54:06]\u001b[0m Started scanning logdir.\n",
            "\u001b[1m[2021-07-02T21:54:11]\u001b[0m Total uploaded: 150 scalars, 0 tensors, 4 binary objects (13.0 MB)\n",
            "\u001b[1m[2021-07-02T21:54:11]\u001b[0m Done scanning logdir.\n",
            "\n",
            "\n",
            "Done. View your TensorBoard at https://tensorboard.dev/experiment/gVefrqQ1QRSmwEzmg4fgzA/\n"
          ],
          "name": "stdout"
        }
      ]
    },
    {
      "cell_type": "code",
      "metadata": {
        "colab": {
          "base_uri": "https://localhost:8080/"
        },
        "id": "z7NX6YFKNVn2",
        "outputId": "7dde8dec-bc7b-4477-c3ac-3147da461733"
      },
      "source": [
        "!tensorboard dev list"
      ],
      "execution_count": 42,
      "outputs": [
        {
          "output_type": "stream",
          "text": [
            "2021-07-02 21:58:32.758875: I tensorflow/stream_executor/platform/default/dso_loader.cc:53] Successfully opened dynamic library libcudart.so.11.0\n",
            "Data for the \"text\" plugin is now uploaded to TensorBoard.dev! Note that uploaded data is public. If you do not want to upload data for this plugin, use the \"--plugins\" command line argument.\n",
            "https://tensorboard.dev/experiment/gVefrqQ1QRSmwEzmg4fgzA/\n",
            "\tName                 EfficentNetB0 vs Resnet50v2\n",
            "\tDescription          Comparing two different TF Hub features extraction model architectures\n",
            "\tId                   gVefrqQ1QRSmwEzmg4fgzA\n",
            "\tCreated              2021-07-02 21:54:06 (4 minutes ago)\n",
            "\tUpdated              2021-07-02 21:54:11 (4 minutes ago)\n",
            "\tRuns                 8\n",
            "\tTags                 5\n",
            "\tScalars              150\n",
            "\tTensor bytes         0\n",
            "\tBinary object bytes  13674730\n",
            "Total: 1 experiment(s)\n"
          ],
          "name": "stdout"
        }
      ]
    },
    {
      "cell_type": "code",
      "metadata": {
        "id": "blphVZMXOwL-"
      },
      "source": [
        ""
      ],
      "execution_count": null,
      "outputs": []
    }
  ]
}